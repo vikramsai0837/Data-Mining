{
 "cells": [
  {
   "cell_type": "markdown",
   "metadata": {
    "id": "lWRuGbEGLj_g"
   },
   "source": [
    "# Programming Project 2\n",
    "\n",
    "Names: \\[*Sai Vikram Alladi(ALLAD1S)  \n",
    "          Karthik Goud Balusa(BALUS1K) \n",
    "          Sai Divya Pasupuleti(PASUP4S)\n",
    "          Anwitha Reddy Bommana(BOMMA2A)*\\]\n"
   ]
  },
  {
   "cell_type": "markdown",
   "metadata": {
    "id": "p4QdH7LNJzJL"
   },
   "source": [
    "**Instructions**: Complete the following blocks of code as directed.  Then answer the questions that follow.  Only one submission is neede per group."
   ]
  },
  {
   "cell_type": "markdown",
   "metadata": {
    "id": "x9R_pWq17Yoo"
   },
   "source": [
    "## Boston Housing Data\n",
    "\n",
    "We will again import pandas as pdwork with a [modifed housing dataset](http://lib.stat.cmu.edu/datasets/boston).  This is one of the classical datasets often used in ML courses.  It comes from Harrison and Rubinfeld.\n",
    "\n",
    "The dataset contains characteristics of houses in the Boston area from the 1970s.\n",
    "\n",
    "Variables in order:\n",
    "1. CRIM     per capita crime rate by town\n",
    "2. ZN       proportion of residential land zoned for lots over 25,000 sq.ft.\n",
    "3. INDUS    proportion of non-retail business acres per town\n",
    "4. CHAS     Charles River dummy variable (= 1 if tract bounds river; 0 otherwise)\n",
    "5. NOX      nitric oxides concentration (parts per 10 million)\n",
    "6. RM       average number of rooms per dwelling\n",
    "7. AGE      proportion of owner-occupied units built prior to 1940\n",
    "8. DIS      weighted distances to five Boston employment centres\n",
    "9. RAD      index of accessibility to radial highways\n",
    "10. TAX      full-value property-tax rate per $10,000\n",
    "11. PTRATIO  pupil-teacher ratio by town\n",
    "\n",
    "[http://lib.stat.cmu.edu/datasets/boston](http://lib.stat.cmu.edu/datasets/boston)\n",
    "\n",
    "Also available are the median home values in those areas.  The median home values have been binned into 'L', 'M', 'H', 'E' for low, medium, high, expensive, respectively.\n",
    "\n",
    "12. HOMEPRICE  binned median home value ('L', 'M', 'H', 'E')\n",
    "13. HOMEPRICE2CAT binary values for median home value ('L/M', 'H/E')\n"
   ]
  },
  {
   "cell_type": "markdown",
   "metadata": {
    "id": "c2f5j_bL-nMz"
   },
   "source": [
    "Let's pull of the attributes form the targets.  We will start with the binary classification task.  We will for the moment follow the standard procedure of splitting our data into training and test datasets.  We could code this up but well make use of [train_test_split](https://scikit-learn.org/stable/modules/generated/sklearn.model_selection.train_test_split.html) from Scikit Learn."
   ]
  },
  {
   "cell_type": "code",
   "execution_count": 1,
   "metadata": {
    "id": "6u_oZYZo-Ygl"
   },
   "outputs": [],
   "source": [
    "import pandas as pd\n",
    "import numpy as np\n",
    "from sklearn.model_selection import train_test_split\n",
    "\n",
    "# Load the housing data.  First you need to upload the 'ModBostonHousing.pkl' file\n",
    "housing_data = pd.read_pickle(\"ModBostonHousing.pkl\")\n",
    "\n",
    "X = housing_data.iloc[:, 0:11]\n",
    "y = np.zeros((len(housing_data[\"HOMEPRICE2CAT\"])))\n",
    "y[housing_data[\"HOMEPRICE2CAT\"] == b'H'] = 1\n",
    "\n",
    "# Make use of train_test_split to create some training and test datasets\n",
    "#X_TRAIN-TRAININT SET , Y_TRAIN -TRAINING SET LABELS\n",
    "#X_TEST TESTING SET,Y_TEST--TESTING LABELS\n",
    "X_train, X_test, y_train, y_test = train_test_split(X, y, test_size=0.2, random_state=82)"
   ]
  },
  {
   "cell_type": "code",
   "execution_count": 2,
   "metadata": {
    "id": "R8n77FET-2TI"
   },
   "outputs": [
    {
     "data": {
      "text/html": [
       "<div>\n",
       "<style scoped>\n",
       "    .dataframe tbody tr th:only-of-type {\n",
       "        vertical-align: middle;\n",
       "    }\n",
       "\n",
       "    .dataframe tbody tr th {\n",
       "        vertical-align: top;\n",
       "    }\n",
       "\n",
       "    .dataframe thead th {\n",
       "        text-align: right;\n",
       "    }\n",
       "</style>\n",
       "<table border=\"1\" class=\"dataframe\">\n",
       "  <thead>\n",
       "    <tr style=\"text-align: right;\">\n",
       "      <th></th>\n",
       "      <th>CRIM</th>\n",
       "      <th>ZN</th>\n",
       "      <th>INDUS</th>\n",
       "      <th>CHAS</th>\n",
       "      <th>NOX</th>\n",
       "      <th>RM</th>\n",
       "      <th>AGE</th>\n",
       "      <th>DIS</th>\n",
       "      <th>RAD</th>\n",
       "      <th>TAX</th>\n",
       "      <th>PTRATIO</th>\n",
       "    </tr>\n",
       "  </thead>\n",
       "  <tbody>\n",
       "    <tr>\n",
       "      <th>count</th>\n",
       "      <td>404.000000</td>\n",
       "      <td>404.000000</td>\n",
       "      <td>404.000000</td>\n",
       "      <td>404.000000</td>\n",
       "      <td>404.000000</td>\n",
       "      <td>404.000000</td>\n",
       "      <td>404.000000</td>\n",
       "      <td>404.000000</td>\n",
       "      <td>404.000000</td>\n",
       "      <td>404.000000</td>\n",
       "      <td>404.000000</td>\n",
       "    </tr>\n",
       "    <tr>\n",
       "      <th>mean</th>\n",
       "      <td>3.425451</td>\n",
       "      <td>11.571782</td>\n",
       "      <td>10.961906</td>\n",
       "      <td>0.071782</td>\n",
       "      <td>0.550539</td>\n",
       "      <td>6.295547</td>\n",
       "      <td>67.579208</td>\n",
       "      <td>3.876500</td>\n",
       "      <td>9.292079</td>\n",
       "      <td>405.126238</td>\n",
       "      <td>12.352327</td>\n",
       "    </tr>\n",
       "    <tr>\n",
       "      <th>std</th>\n",
       "      <td>8.739111</td>\n",
       "      <td>23.234398</td>\n",
       "      <td>6.887719</td>\n",
       "      <td>0.258447</td>\n",
       "      <td>0.115294</td>\n",
       "      <td>0.695089</td>\n",
       "      <td>28.529384</td>\n",
       "      <td>2.095198</td>\n",
       "      <td>8.560040</td>\n",
       "      <td>166.393869</td>\n",
       "      <td>7.047701</td>\n",
       "    </tr>\n",
       "    <tr>\n",
       "      <th>min</th>\n",
       "      <td>0.009060</td>\n",
       "      <td>0.000000</td>\n",
       "      <td>0.460000</td>\n",
       "      <td>0.000000</td>\n",
       "      <td>0.385000</td>\n",
       "      <td>3.863000</td>\n",
       "      <td>2.900000</td>\n",
       "      <td>1.129600</td>\n",
       "      <td>1.000000</td>\n",
       "      <td>188.000000</td>\n",
       "      <td>1.730000</td>\n",
       "    </tr>\n",
       "    <tr>\n",
       "      <th>25%</th>\n",
       "      <td>0.080050</td>\n",
       "      <td>0.000000</td>\n",
       "      <td>5.130000</td>\n",
       "      <td>0.000000</td>\n",
       "      <td>0.448000</td>\n",
       "      <td>5.886500</td>\n",
       "      <td>42.275000</td>\n",
       "      <td>2.121425</td>\n",
       "      <td>4.000000</td>\n",
       "      <td>280.750000</td>\n",
       "      <td>6.710000</td>\n",
       "    </tr>\n",
       "    <tr>\n",
       "      <th>50%</th>\n",
       "      <td>0.243125</td>\n",
       "      <td>0.000000</td>\n",
       "      <td>8.560000</td>\n",
       "      <td>0.000000</td>\n",
       "      <td>0.524000</td>\n",
       "      <td>6.217500</td>\n",
       "      <td>76.500000</td>\n",
       "      <td>3.375100</td>\n",
       "      <td>5.000000</td>\n",
       "      <td>330.000000</td>\n",
       "      <td>11.110000</td>\n",
       "    </tr>\n",
       "    <tr>\n",
       "      <th>75%</th>\n",
       "      <td>2.844785</td>\n",
       "      <td>13.750000</td>\n",
       "      <td>18.100000</td>\n",
       "      <td>0.000000</td>\n",
       "      <td>0.624000</td>\n",
       "      <td>6.616500</td>\n",
       "      <td>93.650000</td>\n",
       "      <td>5.287300</td>\n",
       "      <td>8.000000</td>\n",
       "      <td>666.000000</td>\n",
       "      <td>16.530000</td>\n",
       "    </tr>\n",
       "    <tr>\n",
       "      <th>max</th>\n",
       "      <td>88.976200</td>\n",
       "      <td>95.000000</td>\n",
       "      <td>27.740000</td>\n",
       "      <td>1.000000</td>\n",
       "      <td>0.871000</td>\n",
       "      <td>8.780000</td>\n",
       "      <td>100.000000</td>\n",
       "      <td>10.710300</td>\n",
       "      <td>24.000000</td>\n",
       "      <td>711.000000</td>\n",
       "      <td>34.770000</td>\n",
       "    </tr>\n",
       "  </tbody>\n",
       "</table>\n",
       "</div>"
      ],
      "text/plain": [
       "             CRIM          ZN       INDUS        CHAS         NOX          RM  \\\n",
       "count  404.000000  404.000000  404.000000  404.000000  404.000000  404.000000   \n",
       "mean     3.425451   11.571782   10.961906    0.071782    0.550539    6.295547   \n",
       "std      8.739111   23.234398    6.887719    0.258447    0.115294    0.695089   \n",
       "min      0.009060    0.000000    0.460000    0.000000    0.385000    3.863000   \n",
       "25%      0.080050    0.000000    5.130000    0.000000    0.448000    5.886500   \n",
       "50%      0.243125    0.000000    8.560000    0.000000    0.524000    6.217500   \n",
       "75%      2.844785   13.750000   18.100000    0.000000    0.624000    6.616500   \n",
       "max     88.976200   95.000000   27.740000    1.000000    0.871000    8.780000   \n",
       "\n",
       "              AGE         DIS         RAD         TAX     PTRATIO  \n",
       "count  404.000000  404.000000  404.000000  404.000000  404.000000  \n",
       "mean    67.579208    3.876500    9.292079  405.126238   12.352327  \n",
       "std     28.529384    2.095198    8.560040  166.393869    7.047701  \n",
       "min      2.900000    1.129600    1.000000  188.000000    1.730000  \n",
       "25%     42.275000    2.121425    4.000000  280.750000    6.710000  \n",
       "50%     76.500000    3.375100    5.000000  330.000000   11.110000  \n",
       "75%     93.650000    5.287300    8.000000  666.000000   16.530000  \n",
       "max    100.000000   10.710300   24.000000  711.000000   34.770000  "
      ]
     },
     "execution_count": 2,
     "metadata": {},
     "output_type": "execute_result"
    }
   ],
   "source": [
    "X_train.describe()"
   ]
  },
  {
   "cell_type": "markdown",
   "metadata": {
    "id": "2q7Uc_SRzj5i"
   },
   "source": [
    "[Keras](https://keras.io/) is a very popular package for defining and training neural networks but we will make use [MLPClassifier](https://scikit-learn.org/stable/modules/neural_networks_supervised.html) from scikit-learn.  It will be a little easier to work with for our use case."
   ]
  },
  {
   "cell_type": "code",
   "execution_count": 3,
   "metadata": {
    "id": "g2fis8x4AgA6"
   },
   "outputs": [
    {
     "name": "stdout",
     "output_type": "stream",
     "text": [
      "Iteration 1, loss = 18.07747527\n",
      "Iteration 2, loss = 5.35420644\n",
      "Iteration 3, loss = 0.69317162\n",
      "Iteration 4, loss = 0.60248498\n",
      "Iteration 5, loss = 0.56445056\n",
      "Iteration 6, loss = 0.57085118\n",
      "Iteration 7, loss = 0.56230514\n",
      "Iteration 8, loss = 0.56422906\n",
      "Iteration 9, loss = 0.60500694\n",
      "Iteration 10, loss = 0.61714954\n",
      "Iteration 11, loss = 0.65079862\n",
      "Iteration 12, loss = 0.56514729\n",
      "Iteration 13, loss = 0.56703532\n",
      "Iteration 14, loss = 0.56387732\n",
      "Iteration 15, loss = 0.56377728\n",
      "Iteration 16, loss = 0.56281084\n",
      "Iteration 17, loss = 0.56666666\n",
      "Iteration 18, loss = 0.56258533\n",
      "Training loss did not improve more than tol=0.000100 for 10 consecutive epochs. Stopping.\n"
     ]
    },
    {
     "data": {
      "text/plain": [
       "MLPClassifier(alpha=1e-05, hidden_layer_sizes=(10, 10), learning_rate_init=0.01,\n",
       "              max_iter=500, random_state=1, solver='sgd', verbose=True)"
      ]
     },
     "execution_count": 3,
     "metadata": {},
     "output_type": "execute_result"
    }
   ],
   "source": [
    "# Now we build a neural network\n",
    "from sklearn.neural_network import MLPClassifier\n",
    "\n",
    "clf = MLPClassifier(solver='sgd', alpha=1e-5, learning_rate_init = 0.01,\n",
    "                    hidden_layer_sizes=(10, 10), random_state=1, max_iter = 500, verbose=True)\n",
    "\n",
    "clf.fit(X_train, y_train)\n",
    "\n"
   ]
  },
  {
   "cell_type": "code",
   "execution_count": 4,
   "metadata": {
    "id": "sEpnkEMb1krC"
   },
   "outputs": [
    {
     "name": "stdout",
     "output_type": "stream",
     "text": [
      "[[ 0 20]\n",
      " [ 0 82]]\n",
      "              precision    recall  f1-score   support\n",
      "\n",
      "         0.0       0.00      0.00      0.00        20\n",
      "         1.0       0.80      1.00      0.89        82\n",
      "\n",
      "    accuracy                           0.80       102\n",
      "   macro avg       0.40      0.50      0.45       102\n",
      "weighted avg       0.65      0.80      0.72       102\n",
      "\n"
     ]
    },
    {
     "name": "stderr",
     "output_type": "stream",
     "text": [
      "C:\\Users\\Sai Vikram Alladi\\anaconda3\\lib\\site-packages\\sklearn\\metrics\\_classification.py:1318: UndefinedMetricWarning: Precision and F-score are ill-defined and being set to 0.0 in labels with no predicted samples. Use `zero_division` parameter to control this behavior.\n",
      "  _warn_prf(average, modifier, msg_start, len(result))\n",
      "C:\\Users\\Sai Vikram Alladi\\anaconda3\\lib\\site-packages\\sklearn\\metrics\\_classification.py:1318: UndefinedMetricWarning: Precision and F-score are ill-defined and being set to 0.0 in labels with no predicted samples. Use `zero_division` parameter to control this behavior.\n",
      "  _warn_prf(average, modifier, msg_start, len(result))\n",
      "C:\\Users\\Sai Vikram Alladi\\anaconda3\\lib\\site-packages\\sklearn\\metrics\\_classification.py:1318: UndefinedMetricWarning: Precision and F-score are ill-defined and being set to 0.0 in labels with no predicted samples. Use `zero_division` parameter to control this behavior.\n",
      "  _warn_prf(average, modifier, msg_start, len(result))\n"
     ]
    }
   ],
   "source": [
    "from sklearn.metrics import confusion_matrix\n",
    "from sklearn.metrics import classification_report\n",
    "\n",
    "threshold = 0.5\n",
    "\n",
    "train_preds = (clf.predict_proba(X_train)[:,1] >= threshold).astype(int)\n",
    "test_preds = (clf.predict_proba(X_test)[:,1] >= threshold).astype(int)\n",
    "\n",
    "print(confusion_matrix(y_test, test_preds))\n",
    "print(classification_report(y_test, test_preds))"
   ]
  },
  {
   "cell_type": "code",
   "execution_count": 5,
   "metadata": {
    "id": "CooHqerg6_wu",
    "scrolled": false
   },
   "outputs": [
    {
     "name": "stdout",
     "output_type": "stream",
     "text": [
      "[[6.90500e-02 0.00000e+00 2.18000e+00 0.00000e+00 4.58000e-01 7.14700e+00\n",
      "  5.42000e+01 6.06220e+00 3.00000e+00 2.22000e+02 5.33000e+00]\n",
      " [4.22239e+00 0.00000e+00 1.81000e+01 1.00000e+00 7.70000e-01 5.80300e+00\n",
      "  8.90000e+01 1.90470e+00 2.40000e+01 6.66000e+02 1.46400e+01]\n",
      " [9.51200e-02 0.00000e+00 1.28300e+01 0.00000e+00 4.37000e-01 6.28600e+00\n",
      "  4.50000e+01 4.50260e+00 5.00000e+00 3.98000e+02 8.94000e+00]\n",
      " [2.59150e-01 0.00000e+00 2.18900e+01 0.00000e+00 6.24000e-01 5.69300e+00\n",
      "  9.60000e+01 1.78830e+00 4.00000e+00 4.37000e+02 1.71900e+01]\n",
      " [1.44550e-01 1.25000e+01 7.87000e+00 0.00000e+00 5.24000e-01 6.17200e+00\n",
      "  9.61000e+01 5.95050e+00 5.00000e+00 3.11000e+02 1.91500e+01]\n",
      " [1.58760e-01 0.00000e+00 1.08100e+01 0.00000e+00 4.13000e-01 5.96100e+00\n",
      "  1.75000e+01 5.28730e+00 4.00000e+00 3.05000e+02 9.88000e+00]\n",
      " [3.46600e-02 3.50000e+01 6.06000e+00 0.00000e+00 4.37900e-01 6.03100e+00\n",
      "  2.33000e+01 6.64070e+00 1.00000e+00 3.04000e+02 7.83000e+00]\n",
      " [4.98100e-02 2.10000e+01 5.64000e+00 0.00000e+00 4.39000e-01 5.99800e+00\n",
      "  2.14000e+01 6.81470e+00 4.00000e+00 2.43000e+02 8.43000e+00]\n",
      " [2.81838e+00 0.00000e+00 1.81000e+01 0.00000e+00 5.32000e-01 5.76200e+00\n",
      "  4.03000e+01 4.09830e+00 2.40000e+01 6.66000e+02 1.04200e+01]\n",
      " [1.50380e-01 0.00000e+00 2.56500e+01 0.00000e+00 5.81000e-01 5.85600e+00\n",
      "  9.70000e+01 1.94440e+00 2.00000e+00 1.88000e+02 2.54100e+01]]\n",
      "[[0.12298531 0.87701469]\n",
      " [0.12298531 0.87701469]\n",
      " [0.12298531 0.87701469]\n",
      " [0.12298531 0.87701469]\n",
      " [0.12298531 0.87701469]\n",
      " [0.12298531 0.87701469]\n",
      " [0.12298531 0.87701469]\n",
      " [0.12298531 0.87701469]\n",
      " [0.12298531 0.87701469]\n",
      " [0.12298531 0.87701469]]\n"
     ]
    }
   ],
   "source": [
    "print(X_train.to_numpy()[:10,:])\n",
    "print(clf.predict_proba(X_train)[:10,:])"
   ]
  },
  {
   "cell_type": "markdown",
   "metadata": {
    "id": "AdS4GAj--i9K"
   },
   "source": [
    "## 1. What do you notice about the predictions of the model?\n",
    "\n",
    "# Answer: The model's observed predictions show that it is difficult to distinguish between the two classes in an efficient manner. The dataset's class imbalance and the characteristics' various scales are potential causes of this pattern. The model's performance in these situations can be enhanced by using strategies like feature scaling and using the right assessment criteria.\n",
    "\n",
    "## 2. Go back up and look at the magnitudes of the features in the training data.  They vary by several orders of magnitude.  How might that affect the output of a neural network?  [Hint: Think about how the output is calculated.]\n",
    "# Answer: The output of a neural network can be significantly impacted by the training data's various feature magnitudes. Activation functions that operate in the 0 to 1 or -1 to 1 range, such sigmoid or tanh, are frequently used in neural networks. During the training process, problems can arise when the input characteristics have scales or magnitudes that are noticeably different."
   ]
  },
  {
   "cell_type": "markdown",
   "metadata": {
    "id": "YAZaJ2ZJ_ExX"
   },
   "source": [
    "Let's try to normalize the data.  Then train and make some predictions."
   ]
  },
  {
   "cell_type": "code",
   "execution_count": 6,
   "metadata": {
    "id": "gv-5zLv38cgm"
   },
   "outputs": [
    {
     "name": "stdout",
     "output_type": "stream",
     "text": [
      "Training data\n",
      "[[ 89  12]\n",
      " [  8 295]]\n",
      "              precision    recall  f1-score   support\n",
      "\n",
      "         0.0       0.92      0.88      0.90       101\n",
      "         1.0       0.96      0.97      0.97       303\n",
      "\n",
      "    accuracy                           0.95       404\n",
      "   macro avg       0.94      0.93      0.93       404\n",
      "weighted avg       0.95      0.95      0.95       404\n",
      "\n",
      "Test data\n",
      "[[17  3]\n",
      " [ 6 76]]\n",
      "              precision    recall  f1-score   support\n",
      "\n",
      "         0.0       0.74      0.85      0.79        20\n",
      "         1.0       0.96      0.93      0.94        82\n",
      "\n",
      "    accuracy                           0.91       102\n",
      "   macro avg       0.85      0.89      0.87       102\n",
      "weighted avg       0.92      0.91      0.91       102\n",
      "\n",
      "[[-0.2944706  -0.49804527 -0.40970111 -0.27774433 -0.10875518 -0.47554659\n",
      "   0.75784293  0.06481475 -0.61823069 -0.58972268  0.20966742]\n",
      " [-0.38407353 -0.49804527  2.13250496 -0.27774433  0.26420313 -0.61221981\n",
      "   0.07433711 -0.77262387 -0.85187446 -1.30489326  0.28628816]\n",
      " [-0.38159502  0.36274741 -0.58102053  3.59152154 -0.7505904  -0.54028654\n",
      "  -0.21308584  0.01956843 -0.73505257 -1.09454897  0.18412718]\n",
      " [ 0.55184548 -0.49804527  1.036351   -0.27774433  1.4090984   1.57886767\n",
      "   1.11186388 -0.67955392  1.71820708  1.56780875  0.62256804]\n",
      " [-0.11970453 -0.49804527  1.25122621 -0.27774433  2.77950335 -0.23816679\n",
      "   1.13639999 -1.17287237 -0.5014088  -0.01277834  2.19187416]\n",
      " [-0.38378518 -0.49804527 -0.93962984 -0.27774433 -0.88069214 -0.25111478\n",
      "  -0.37782827 -0.06152174 -0.73505257 -0.95031289 -0.555121  ]\n",
      " [-0.38123686  0.03995016 -0.44890132 -0.27774433 -0.23018346 -0.58488516\n",
      "  -1.0017464   0.75143232 -0.5014088  -0.56568333  0.47642109]\n",
      " [ 0.63593527 -0.49804527  1.036351    3.59152154  1.903485   -0.12019622\n",
      "   1.04526588 -0.83729555  1.71820708  1.56780875  0.74459365]\n",
      " [-0.38840578 -0.49804527 -0.95414844 -0.27774433 -0.94140628 -0.40505198\n",
      "  -0.66875638  1.97456235 -0.73505257 -0.31928002 -0.25857039]\n",
      " [-0.38200467 -0.49804527  0.27122102 -0.27774433 -0.98477353 -0.22378014\n",
      "  -0.76339565  0.10213818 -0.5014088  -0.04282753 -0.29546185]]\n",
      "[[8.53665587e-03 9.91463344e-01]\n",
      " [4.79167921e-03 9.95208321e-01]\n",
      " [2.39876243e-02 9.76012376e-01]\n",
      " [2.79552172e-01 7.20447828e-01]\n",
      " [3.41502621e-05 9.99965850e-01]\n",
      " [2.98595506e-01 7.01404494e-01]\n",
      " [5.55438760e-04 9.99444561e-01]\n",
      " [2.61972191e-02 9.73802781e-01]\n",
      " [1.04285023e-03 9.98957150e-01]\n",
      " [2.49888175e-02 9.75011183e-01]]\n"
     ]
    }
   ],
   "source": [
    "X = housing_data.iloc[:, 0:11]\n",
    "y = np.zeros((len(housing_data[\"HOMEPRICE2CAT\"])))\n",
    "y[housing_data[\"HOMEPRICE2CAT\"] == b'H'] = 1\n",
    "\n",
    "# Make use of train_test_split to create some training and test datasets\n",
    "X_train, X_test, y_train, y_test = train_test_split(X, y, test_size=0.2, random_state=82)\n",
    "\n",
    "feat_means = X_train.mean(axis = 0)\n",
    "feat_stds = X_train.std(axis = 0)\n",
    "\n",
    "X_train = (X_train - feat_means) / feat_stds\n",
    "X_test = (X_test - feat_means) / feat_stds\n",
    "\n",
    "clf = MLPClassifier(solver='sgd', alpha=1e-5, learning_rate_init = 0.01,\n",
    "                    hidden_layer_sizes=(10, 10), random_state=1, max_iter = 500)\n",
    "\n",
    "clf.fit(X_train, y_train)\n",
    "\n",
    "threshold = 0.5\n",
    "\n",
    "train_preds = (clf.predict_proba(X_train)[:,1] >= threshold).astype(int)\n",
    "test_preds = (clf.predict_proba(X_test)[:,1] >= threshold).astype(int)\n",
    "\n",
    "print(\"Training data\")\n",
    "print(confusion_matrix(y_train, train_preds))\n",
    "print(classification_report(y_train, train_preds))\n",
    "\n",
    "print(\"Test data\")\n",
    "print(confusion_matrix(y_test, test_preds))\n",
    "print(classification_report(y_test, test_preds))\n",
    "\n",
    "print(X_test.to_numpy()[:10,:])\n",
    "print(clf.predict_proba(X_test)[:10,:])"
   ]
  },
  {
   "cell_type": "markdown",
   "metadata": {
    "id": "8YU6k1uG_upH"
   },
   "source": [
    "## 3. Now what do you notice about the output of the model?  How sure does the model seem about these first 10 predictions?\n",
    "\n",
    "## Answer: Using the predict_proba method, the model forecasts the class probabilities for each sample in the test dataset. The output displays, for the first 10 samples in the test dataset, the expected probability for each class (0 and 1).When we look at the predicted probabilities, we can see that for the majority of the samples, the model gives one of the classes a high probability, demonstrating a high level of confidence in the forecast. For instance, the model's prediction of a probability of 0.991 for class 1 (high/expensive median home value) in the first sample indicates that the model is confident in this forecast.The projected probability for class 1 in the second sample is also 0.995, showing a high level of confidence in this prediction.\n",
    "\n",
    "## 4. What do you think about the accuracy of the model on the training and test data?\n",
    "\n",
    "## Answer: Data used as training: The model's accuracy on the training set was 95%. In other words, the model accurately predicted the target variable (home price category) for 95% of the samples in the training set.\n",
    "## Test data: The model's accuracy for the test data was 91%. This shows that 91% of the samples in the test set had target variables that the model correctly anticipated.\n"
   ]
  },
  {
   "cell_type": "code",
   "execution_count": 7,
   "metadata": {
    "id": "IqNvuTd-AQxU"
   },
   "outputs": [
    {
     "name": "stdout",
     "output_type": "stream",
     "text": [
      "Training data\n",
      "[[ 83  18]\n",
      " [ 15 288]]\n",
      "              precision    recall  f1-score   support\n",
      "\n",
      "         0.0       0.85      0.82      0.83       101\n",
      "         1.0       0.94      0.95      0.95       303\n",
      "\n",
      "    accuracy                           0.92       404\n",
      "   macro avg       0.89      0.89      0.89       404\n",
      "weighted avg       0.92      0.92      0.92       404\n",
      "\n",
      "Test data\n",
      "[[18  2]\n",
      " [ 6 76]]\n",
      "              precision    recall  f1-score   support\n",
      "\n",
      "         0.0       0.75      0.90      0.82        20\n",
      "         1.0       0.97      0.93      0.95        82\n",
      "\n",
      "    accuracy                           0.92       102\n",
      "   macro avg       0.86      0.91      0.88       102\n",
      "weighted avg       0.93      0.92      0.92       102\n",
      "\n",
      "[[-0.2944706  -0.49804527 -0.40970111 -0.27774433 -0.10875518 -0.47554659\n",
      "   0.75784293  0.06481475 -0.61823069 -0.58972268  0.20966742]\n",
      " [-0.38407353 -0.49804527  2.13250496 -0.27774433  0.26420313 -0.61221981\n",
      "   0.07433711 -0.77262387 -0.85187446 -1.30489326  0.28628816]\n",
      " [-0.38159502  0.36274741 -0.58102053  3.59152154 -0.7505904  -0.54028654\n",
      "  -0.21308584  0.01956843 -0.73505257 -1.09454897  0.18412718]\n",
      " [ 0.55184548 -0.49804527  1.036351   -0.27774433  1.4090984   1.57886767\n",
      "   1.11186388 -0.67955392  1.71820708  1.56780875  0.62256804]\n",
      " [-0.11970453 -0.49804527  1.25122621 -0.27774433  2.77950335 -0.23816679\n",
      "   1.13639999 -1.17287237 -0.5014088  -0.01277834  2.19187416]\n",
      " [-0.38378518 -0.49804527 -0.93962984 -0.27774433 -0.88069214 -0.25111478\n",
      "  -0.37782827 -0.06152174 -0.73505257 -0.95031289 -0.555121  ]\n",
      " [-0.38123686  0.03995016 -0.44890132 -0.27774433 -0.23018346 -0.58488516\n",
      "  -1.0017464   0.75143232 -0.5014088  -0.56568333  0.47642109]\n",
      " [ 0.63593527 -0.49804527  1.036351    3.59152154  1.903485   -0.12019622\n",
      "   1.04526588 -0.83729555  1.71820708  1.56780875  0.74459365]\n",
      " [-0.38840578 -0.49804527 -0.95414844 -0.27774433 -0.94140628 -0.40505198\n",
      "  -0.66875638  1.97456235 -0.73505257 -0.31928002 -0.25857039]\n",
      " [-0.38200467 -0.49804527  0.27122102 -0.27774433 -0.98477353 -0.22378014\n",
      "  -0.76339565  0.10213818 -0.5014088  -0.04282753 -0.29546185]]\n",
      "[[8.90041498e-03 9.91099585e-01]\n",
      " [3.84827226e-04 9.99615173e-01]\n",
      " [1.14309827e-01 8.85690173e-01]\n",
      " [6.24615275e-02 9.37538472e-01]\n",
      " [1.91435447e-05 9.99980856e-01]\n",
      " [1.44309264e-01 8.55690736e-01]\n",
      " [1.44537705e-03 9.98554623e-01]\n",
      " [1.42742827e-02 9.85725717e-01]\n",
      " [7.76419343e-03 9.92235807e-01]\n",
      " [3.70116708e-02 9.62988329e-01]]\n"
     ]
    }
   ],
   "source": [
    "# Train up and evaluate some different models by uncommenting one model\n",
    "#  definition at a time\n",
    "#clf = MLPClassifier(solver='lbfgs', alpha=1e-5,\n",
    "#                    hidden_layer_sizes=(10, 10), random_state=1, max_iter = 500)\n",
    "#clf = MLPClassifier(solver='sgd', alpha=1e-5, learning_rate_init = 0.05,\n",
    "#                    hidden_layer_sizes=(20, 20, 10), random_state=1, max_iter = 500)\n",
    "#clf = MLPClassifier(solver='sgd', alpha=1e-5, learning_rate_init = 0.001,\n",
    "#                    hidden_layer_sizes=(5, 5), random_state=1, max_iter = 500)\n",
    "clf = MLPClassifier(solver='sgd', alpha=1e-5, learning_rate_init = 0.1,\n",
    "                    hidden_layer_sizes=(10, 10), random_state=1, max_iter = 150)\n",
    "\n",
    "clf.fit(X_train, y_train)\n",
    "\n",
    "threshold = 0.5\n",
    "\n",
    "train_preds = (clf.predict_proba(X_train)[:,1] >= threshold).astype(int)\n",
    "test_preds = (clf.predict_proba(X_test)[:,1] >= threshold).astype(int)\n",
    "\n",
    "print(\"Training data\")\n",
    "print(confusion_matrix(y_train, train_preds))\n",
    "print(classification_report(y_train, train_preds))\n",
    "\n",
    "print(\"Test data\")\n",
    "print(confusion_matrix(y_test, test_preds))\n",
    "print(classification_report(y_test, test_preds))\n",
    "\n",
    "print(X_test.to_numpy()[:10,:])\n",
    "print(clf.predict_proba(X_test)[:10,:])"
   ]
  },
  {
   "cell_type": "markdown",
   "metadata": {
    "id": "1CN7VkwEDLH0"
   },
   "source": [
    "Let's have a look at the ROCs."
   ]
  },
  {
   "cell_type": "code",
   "execution_count": 8,
   "metadata": {
    "id": "UNL6YSL8DKY3"
   },
   "outputs": [
    {
     "data": {
      "image/png": "[encoded data removed]",
      "text/plain": [
       "<Figure size 800x300 with 2 Axes>"
      ]
     },
     "metadata": {},
     "output_type": "display_data"
    }
   ],
   "source": [
    "import matplotlib.pyplot as plt\n",
    "from sklearn.metrics import precision_recall_curve\n",
    "from sklearn.metrics import classification_report\n",
    "from sklearn.metrics import roc_curve, auc\n",
    "\n",
    "clf = MLPClassifier(solver='sgd', alpha=1e-5, learning_rate_init=0.1,\n",
    "                    hidden_layer_sizes=(10, 10), random_state=1, max_iter = 500)\n",
    "clf.fit(X_train, y_train)\n",
    "test_preds = (clf.predict_proba(X_test)[:,1] >= threshold).astype(int)\n",
    "\n",
    "# From https://colab.research.google.com/github/gal-a/blog/blob/master/docs/notebooks/sklearn/sklearn_precision_recall_vs_roc_curves.ipynb\n",
    "\n",
    "# Get ROC curve FPR and TPR from true labels vs score values\n",
    "fpr, tpr, _ = roc_curve(y_test, test_preds)\n",
    "\n",
    "# Calculate ROC Area Under the Curve (AUC) from FPR and TPR data points\n",
    "roc_auc = auc(fpr, tpr)\n",
    "\n",
    "# Calculate precision and recall from true labels vs score values\n",
    "precision, recall, _ = precision_recall_curve(y_test, test_preds)\n",
    "\n",
    "plt.figure(figsize=(8, 3))\n",
    "\n",
    "plt.subplot(1,2,1)\n",
    "lw = 2\n",
    "plt.plot(fpr, tpr, color='darkorange', lw=lw, label='ROC curve (area = %0.4f)' % roc_auc)\n",
    "plt.plot([0, 1], [0, 1], color='navy', lw=lw, linestyle='--')\n",
    "plt.xlim([0.0, 1.0])\n",
    "plt.ylim([0.0, 1.05])\n",
    "plt.xlabel('False Positive Rate')\n",
    "plt.ylabel('True Positive Rate')\n",
    "plt.title('ROC Curve')\n",
    "plt.legend(loc=\"lower right\")\n",
    "plt.grid(True)\n",
    "\n",
    "plt.subplot(1,2,2)\n",
    "plt.step(recall, precision, color='orange', where='post')\n",
    "# plt.fill_between(recall, precision, step='post', alpha=0.5, color='orange')\n",
    "plt.xlabel('Recall')\n",
    "plt.ylabel('Precision')\n",
    "plt.ylim([0.0, 1.05])\n",
    "plt.xlim([0.0, 1.0])\n",
    "plt.title('Precision Recall Curve')\n",
    "plt.grid(True)\n",
    "\n",
    "left  = 0.125  # the left side of the subplots of the figure\n",
    "right = 0.9    # the right side of the subplots of the figure\n",
    "bottom = 0.1   # the bottom of the subplots of the figure\n",
    "top = 0.9      # the top of the subplots of the figure\n",
    "wspace = 0.5   # the amount of width reserved for blank space between subplots\n",
    "hspace = 0.2   # the amount of height reserved for white space between subplots\n",
    "plt.subplots_adjust(left, bottom, right, top, wspace, hspace)\n",
    "plt.show()"
   ]
  },
  {
   "cell_type": "markdown",
   "metadata": {
    "id": "ry_Kqr0cADqz"
   },
   "source": [
    "Let's assume we are more interested in identifying some houses that are high/expensive."
   ]
  },
  {
   "cell_type": "code",
   "execution_count": 9,
   "metadata": {
    "id": "fiY9WDZGABqL"
   },
   "outputs": [
    {
     "name": "stdout",
     "output_type": "stream",
     "text": [
      "==== 0.5 =====\n",
      "Test data\n",
      "[[18  2]\n",
      " [ 6 76]]\n",
      "              precision    recall  f1-score   support\n",
      "\n",
      "         0.0       0.75      0.90      0.82        20\n",
      "         1.0       0.97      0.93      0.95        82\n",
      "\n",
      "    accuracy                           0.92       102\n",
      "   macro avg       0.86      0.91      0.88       102\n",
      "weighted avg       0.93      0.92      0.92       102\n",
      "\n",
      "==== 0.6 =====\n",
      "Test data\n",
      "[[18  2]\n",
      " [ 6 76]]\n",
      "              precision    recall  f1-score   support\n",
      "\n",
      "         0.0       0.75      0.90      0.82        20\n",
      "         1.0       0.97      0.93      0.95        82\n",
      "\n",
      "    accuracy                           0.92       102\n",
      "   macro avg       0.86      0.91      0.88       102\n",
      "weighted avg       0.93      0.92      0.92       102\n",
      "\n",
      "==== 0.7 =====\n",
      "Test data\n",
      "[[18  2]\n",
      " [ 7 75]]\n",
      "              precision    recall  f1-score   support\n",
      "\n",
      "         0.0       0.72      0.90      0.80        20\n",
      "         1.0       0.97      0.91      0.94        82\n",
      "\n",
      "    accuracy                           0.91       102\n",
      "   macro avg       0.85      0.91      0.87       102\n",
      "weighted avg       0.92      0.91      0.92       102\n",
      "\n",
      "==== 0.8 =====\n",
      "Test data\n",
      "[[18  2]\n",
      " [ 9 73]]\n",
      "              precision    recall  f1-score   support\n",
      "\n",
      "         0.0       0.67      0.90      0.77        20\n",
      "         1.0       0.97      0.89      0.93        82\n",
      "\n",
      "    accuracy                           0.89       102\n",
      "   macro avg       0.82      0.90      0.85       102\n",
      "weighted avg       0.91      0.89      0.90       102\n",
      "\n",
      "==== 0.9 =====\n",
      "Test data\n",
      "[[19  1]\n",
      " [14 68]]\n",
      "              precision    recall  f1-score   support\n",
      "\n",
      "         0.0       0.58      0.95      0.72        20\n",
      "         1.0       0.99      0.83      0.90        82\n",
      "\n",
      "    accuracy                           0.85       102\n",
      "   macro avg       0.78      0.89      0.81       102\n",
      "weighted avg       0.91      0.85      0.86       102\n",
      "\n",
      "==== 0.95 =====\n",
      "Test data\n",
      "[[19  1]\n",
      " [21 61]]\n",
      "              precision    recall  f1-score   support\n",
      "\n",
      "         0.0       0.47      0.95      0.63        20\n",
      "         1.0       0.98      0.74      0.85        82\n",
      "\n",
      "    accuracy                           0.78       102\n",
      "   macro avg       0.73      0.85      0.74       102\n",
      "weighted avg       0.88      0.78      0.81       102\n",
      "\n"
     ]
    }
   ],
   "source": [
    "# Increase the threshold to try to increase precision.\n",
    "\n",
    "clf = MLPClassifier(solver='sgd', alpha=1e-5, learning_rate_init=0.1,\n",
    "                    hidden_layer_sizes=(10, 10), random_state=1, max_iter = 500)\n",
    "\n",
    "clf.fit(X_train, y_train)\n",
    "\n",
    "for threshold in [0.5, 0.6, 0.7, 0.8, 0.9, 0.95]:\n",
    "    print(\"====\", threshold, \"=====\"  )\n",
    "\n",
    "    test_preds = (clf.predict_proba(X_test)[:,1] >= threshold).astype(int)\n",
    "\n",
    "    print(\"Test data\")\n",
    "    print(confusion_matrix(y_test, test_preds))\n",
    "    print(classification_report(y_test, test_preds))\n"
   ]
  },
  {
   "cell_type": "markdown",
   "metadata": {
    "id": "u-RfT6YpE9-I"
   },
   "source": [
    "## MNIST Digit Data\n",
    "\n",
    "Now let's look at some image data.  Keras provides easy access to the [MNIST dataset](https://keras.io/api/datasets/mnist/#load_data-function)."
   ]
  },
  {
   "cell_type": "code",
   "execution_count": 10,
   "metadata": {
    "id": "C-I5px14FYAB"
   },
   "outputs": [
    {
     "name": "stdout",
     "output_type": "stream",
     "text": [
      "Test data\n",
      "[[1019    9]\n",
      " [   2 1133]]\n",
      "              precision    recall  f1-score   support\n",
      "\n",
      "           0       1.00      0.99      0.99      1028\n",
      "           1       0.99      1.00      1.00      1135\n",
      "\n",
      "    accuracy                           0.99      2163\n",
      "   macro avg       1.00      0.99      0.99      2163\n",
      "weighted avg       0.99      0.99      0.99      2163\n",
      "\n"
     ]
    }
   ],
   "source": [
    "from tensorflow.keras.datasets import mnist\n",
    "\n",
    "(train_X, train_y), (test_X, test_y) = mnist.load_data()\n",
    "\n",
    "# Come up with a way to visualize the data\n",
    "np.set_printoptions(linewidth=200)\n",
    "\n",
    "#print(train_X[3,:,:])\n",
    "#print(train_Y[3])\n",
    "\n",
    "one_indices = np.where(train_y[:] == 1)\n",
    "zero_indices = np.where(train_y[:] == 7)\n",
    "\n",
    "one_zero_indices = np.concatenate((one_indices, zero_indices), axis=1).flatten()\n",
    "np.random.shuffle(one_zero_indices)\n",
    "\n",
    "train_X = train_X[one_zero_indices,:]\n",
    "train_y = train_y[one_zero_indices]\n",
    "\n",
    "# Try to figure out how many of each digit there are...\n",
    "\n",
    "#print(np.sum(train_y == 1))\n",
    "#print(np.sum(train_y == 7))\n",
    "\n",
    "train_y[train_y == 7] = 0\n",
    "\n",
    "# Reshape X to be a 2d tensor so that it will fit into SimpleNN\n",
    "train_X = np.reshape(train_X, (train_X.shape[0], -1))\n",
    "\n",
    "# Normalize the feature in x to be between 0 and 1\n",
    "train_X = train_X / 255.\n",
    "\n",
    "one_indices = np.where(test_y[:] == 1)\n",
    "zero_indices = np.where(test_y[:] == 7)\n",
    "\n",
    "one_zero_indices = np.concatenate((one_indices, zero_indices), axis=1).flatten()\n",
    "np.random.shuffle(one_zero_indices)\n",
    "\n",
    "test_X = test_X[one_zero_indices,:]\n",
    "test_y = test_y[one_zero_indices]\n",
    "\n",
    "test_y[test_y == 7] = 0\n",
    "\n",
    "# Try to figure out how many of each digit there are...\n",
    "\n",
    "# Reshape X to be a 2d tensor so that it will fit into SimpleNN\n",
    "test_X = np.reshape(test_X, (test_X.shape[0], -1))\n",
    "\n",
    "# Normalize the feature in x to be between 0 and 1\n",
    "test_X = test_X / 255.\n",
    "\n",
    "clf = MLPClassifier(solver='sgd', alpha=1e-5, learning_rate_init=0.01,\n",
    "                   hidden_layer_sizes=(10, 10), random_state=1, max_iter = 500)\n",
    "\n",
    "clf.fit(train_X, train_y)\n",
    "\n",
    "print(\"Test data\")\n",
    "print(confusion_matrix(test_y, clf.predict(test_X)))\n",
    "print(classification_report(test_y, clf.predict(test_X)))\n"
   ]
  },
  {
   "cell_type": "markdown",
   "metadata": {
    "id": "6PxrdmYcIZ6d"
   },
   "source": [
    "## 5.  Why do you think the model does so well, even on the test data?\n",
    "\n",
    "## Answer: The performance of the model is aided by the high quality and suitability of the MNIST dataset for digit recognition tasks.\n",
    "## The design and hyperparameters of the MLPClassifier model, such as the two hidden layers and suitable tuning, allow it to efficiently learn complicated patterns.\n",
    "## The convergence and performance of the model are improved by preprocessing procedures including resizing the input images and standardizing pixel values.\n",
    "## The model can generalize effectively and perform better on test data when there is enough training data, which may be found by selecting samples of the digits 1 and 7 at random.\n",
    "## The capacity and complexity of the MLPClassifier model allow it to accurately capture complicated correlations between input data and target classes.\n"
   ]
  },
  {
   "cell_type": "markdown",
   "metadata": {
    "id": "zPP8KWDrIqCO"
   },
   "source": [
    "Let's see how robust our model is.  We will randomly preturb some of the images of the digits.\n",
    "\n"
   ]
  },
  {
   "cell_type": "code",
   "execution_count": 11,
   "metadata": {
    "id": "W_mCvTJ0JyGC"
   },
   "outputs": [
    {
     "name": "stdout",
     "output_type": "stream",
     "text": [
      "<class 'numpy.ndarray'> <class 'numpy.uint8'>\n",
      "Label: 1\n",
      "Digit in the image\n"
     ]
    },
    {
     "data": {
      "image/png": "[encoded data removed]",
      "text/plain": [
       "<Figure size 640x480 with 1 Axes>"
      ]
     },
     "metadata": {},
     "output_type": "display_data"
    },
    {
     "name": "stdout",
     "output_type": "stream",
     "text": [
      "<class 'numpy.ndarray'> <class 'numpy.uint8'>\n",
      "Label: 0\n",
      "Digit in the image\n"
     ]
    },
    {
     "data": {
      "image/png": "[encoded data removed]",
      "text/plain": [
       "<Figure size 640x480 with 1 Axes>"
      ]
     },
     "metadata": {},
     "output_type": "display_data"
    },
    {
     "name": "stdout",
     "output_type": "stream",
     "text": [
      "<class 'numpy.ndarray'> <class 'numpy.uint8'>\n",
      "Label: 0\n",
      "Digit in the image\n"
     ]
    },
    {
     "data": {
      "image/png": "[encoded data removed]",
      "text/plain": [
       "<Figure size 640x480 with 1 Axes>"
      ]
     },
     "metadata": {},
     "output_type": "display_data"
    },
    {
     "name": "stdout",
     "output_type": "stream",
     "text": [
      "<class 'numpy.ndarray'> <class 'numpy.uint8'>\n",
      "Label: 1\n",
      "Digit in the image\n"
     ]
    },
    {
     "data": {
      "image/png": "[encoded data removed]",
      "text/plain": [
       "<Figure size 640x480 with 1 Axes>"
      ]
     },
     "metadata": {},
     "output_type": "display_data"
    },
    {
     "name": "stdout",
     "output_type": "stream",
     "text": [
      "<class 'numpy.ndarray'> <class 'numpy.uint8'>\n",
      "Label: 1\n",
      "Digit in the image\n"
     ]
    },
    {
     "data": {
      "image/png": "[encoded data removed]",
      "text/plain": [
       "<Figure size 640x480 with 1 Axes>"
      ]
     },
     "metadata": {},
     "output_type": "display_data"
    }
   ],
   "source": [
    "from tensorflow.keras.preprocessing.image import ImageDataGenerator\n",
    "import numpy as np\n",
    "import matplotlib\n",
    "import matplotlib.pyplot as plt\n",
    "%matplotlib inline\n",
    "\n",
    "datagen = ImageDataGenerator(\n",
    "    rotation_range=20,\n",
    "    width_shift_range=0.15,\n",
    "    height_shift_range=0.15,\n",
    "    vertical_flip=False)\n",
    "\n",
    "for X_batch, Y_batch in datagen.flow(test_X.reshape((-1, 28,28, 1)), test_y, batch_size=5):\n",
    "    for image, label in ([(X_batch[idx,:], Y_batch[idx]) for idx in np.arange(X_batch.shape[0])]):\n",
    "        print(type(image), type(label))\n",
    "        print('Label:', label)\n",
    "        print('Digit in the image')\n",
    "        plt.imshow(image.reshape(28,28),cmap='gray')\n",
    "        plt.show()\n",
    "\n",
    "    break\n",
    "\n"
   ]
  },
  {
   "cell_type": "code",
   "execution_count": 12,
   "metadata": {
    "id": "AuTdaZK6KF9f"
   },
   "outputs": [
    {
     "name": "stdout",
     "output_type": "stream",
     "text": [
      "Augmented Test data\n",
      "[[103  18]\n",
      " [ 43  86]]\n",
      "              precision    recall  f1-score   support\n",
      "\n",
      "           0       0.71      0.85      0.77       121\n",
      "           1       0.83      0.67      0.74       129\n",
      "\n",
      "    accuracy                           0.76       250\n",
      "   macro avg       0.77      0.76      0.75       250\n",
      "weighted avg       0.77      0.76      0.75       250\n",
      "\n"
     ]
    }
   ],
   "source": [
    "for X_batch, Y_batch in datagen.flow(test_X.reshape(-1, 28,28, 1), test_y, batch_size=250):\n",
    "\n",
    "    X_batch = X_batch.reshape((X_batch.shape[0], -1))\n",
    "\n",
    "    print(\"Augmented Test data\")\n",
    "    print(confusion_matrix(Y_batch, clf.predict(X_batch)))\n",
    "    print(classification_report(Y_batch, clf.predict(X_batch)))\n",
    "\n",
    "    break"
   ]
  },
  {
   "cell_type": "markdown",
   "metadata": {
    "id": "av8vUrAnLx4q"
   },
   "source": [
    "## 6.  Why is the digit classifier performing so poorly now?\n",
    "\n",
    "## Answer: After data augmentation, the digit classifier performs badly since the enhanced images considerably change the original digit images.\n",
    "## The digits' shape and appearance have altered as a result of the augmentation techniques used, such as rotation, shifting, and flipping, making it challenging for the classifier to correctly classify them.\n",
    "## The classifier was not well-prepared to handle the variances brought by the augmented images because it was trained on the original MNIST dataset without augmentation.\n",
    "## The model's performance suffers as a result of its inability to generalize and adjust to the additional data.\n",
    "## In order to improve the classifier's performance on augmented test data, it would be advantageous to train the model using augmented data. This allows the model to learn from the variances provided by the augmentation approaches.\n",
    "\n",
    "## 7.  How do we find the \"best\" neural network for our task?\n",
    "\n",
    "## Answer: Define the task specifications: Understand the exact objectives and limitations of the assignment, as well as the issue you are attempting to solve. Determine the input data, the intended result, and any unique performance measures or limitations.\n",
    "## Analyze the input data to learn more about its features, distributions, and potential difficulties. Explore and preprocess the data. By addressing missing values, outliers, and scaling or normalizing the features as necessary, preprocessing the data can be done.\n",
    "## Create and test various architectural designs: Try out various neural network topologies, such as the number of layers and connections between layers, as well as different layer types (such as dense, convolutional, and recurrent), activation functions, and layers. Try varying the learning rate, batch size, and regularization methods among the hyperparameters.\n",
    "## Develop and assess models: Utilize the proper training algorithms and optimization approaches to train the neural network models. To evaluate the model, divide the data into training and validation sets. Observe the training procedure, keep track of performance indicators, and, if necessary, change the model architecture or hyperparameters. Analyze and compare the performance of the models using the validation set.\n",
    "## Identify the top-performing models and make further adjustments to them. Try other approaches like regularization, dropout, scheduling based on learning rate, or ensemble methods. To get a more accurate estimate of the model's performance, do cross-validation or use a different test set. Continually improve the model based on the outcomes of the evaluation.\n",
    "\n",
    "\n",
    "\n"
   ]
  },
  {
   "cell_type": "markdown",
   "metadata": {
    "id": "gVOP0b1wM27C"
   },
   "source": [
    "\n",
    "**Submission:** Submit this completed notebook and a PDF of its generated output via Blackboard.  Submit the files individually."
   ]
  }
 ],
 "metadata": {
  "colab": {
   "provenance": []
  },
  "kernelspec": {
   "display_name": "Python 3 (ipykernel)",
   "language": "python",
   "name": "python3"
  },
  "language_info": {
   "codemirror_mode": {
    "name": "ipython",
    "version": 3
   },
   "file_extension": ".py",
   "mimetype": "text/x-python",
   "name": "python",
   "nbconvert_exporter": "python",
   "pygments_lexer": "ipython3",
   "version": "3.9.13"
  }
 },
 "nbformat": 4,
 "nbformat_minor": 1
}
